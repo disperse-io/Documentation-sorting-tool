{
 "cells": [
  {
   "cell_type": "markdown",
   "id": "e289998e",
   "metadata": {},
   "source": [
    "# Do read README.md or you wont be able to run it (^_^)"
   ]
  },
  {
   "cell_type": "code",
   "execution_count": null,
   "id": "65304298",
   "metadata": {
    "scrolled": false
   },
   "outputs": [],
   "source": [
    "%run -m src"
   ]
  },
  {
   "cell_type": "code",
   "execution_count": null,
   "id": "db219628",
   "metadata": {},
   "outputs": [],
   "source": []
  }
 ],
 "metadata": {
  "kernelspec": {
   "display_name": "Python 3",
   "language": "python",
   "name": "python3"
  },
  "language_info": {
   "codemirror_mode": {
    "name": "ipython",
    "version": 3
   },
   "file_extension": ".py",
   "mimetype": "text/x-python",
   "name": "python",
   "nbconvert_exporter": "python",
   "pygments_lexer": "ipython3",
   "version": "3.7.6"
  },
  "vscode": {
   "interpreter": {
    "hash": "bb8417802ea721436772b22e2e8e6fcf19f2920e58327f6d150f88461a5a8450"
   }
  }
 },
 "nbformat": 4,
 "nbformat_minor": 5
}
