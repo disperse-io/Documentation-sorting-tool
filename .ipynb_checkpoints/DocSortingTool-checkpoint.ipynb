{
 "cells": [
  {
   "cell_type": "markdown",
   "id": "e289998e",
   "metadata": {},
   "source": [
    "# Do read README.md or you wont be able to run it (^_^)"
   ]
  },
  {
   "cell_type": "code",
   "execution_count": 1,
   "id": "65304298",
   "metadata": {
    "scrolled": false
   },
   "outputs": [
    {
     "name": "stdout",
     "output_type": "stream",
     "text": [
      "Enter a path where you want to create folder :C:\\Users\\Disperse\\Documents\\\n",
      "Enter your project_name here : dss\n",
      "Enter a path to folder with documentation :C:\\Users\\Disperse\\Documents\\removed\n"
     ]
    },
    {
     "data": {
      "application/vnd.jupyter.widget-view+json": {
       "model_id": "8d41a5a32db84f68b631fc78162aa0da",
       "version_major": 2,
       "version_minor": 0
      },
      "text/plain": [
       "HBox(children=(Button(button_style='info', description='Create Project', style=ButtonStyle()), Button(button_s…"
      ]
     },
     "metadata": {},
     "output_type": "display_data"
    },
    {
     "data": {
      "application/vnd.jupyter.widget-view+json": {
       "model_id": "7236714259bc412aae5e59cffe91e17b",
       "version_major": 2,
       "version_minor": 0
      },
      "text/plain": [
       "Output()"
      ]
     },
     "metadata": {},
     "output_type": "display_data"
    }
   ],
   "source": [
    "%run -m src"
   ]
  },
  {
   "cell_type": "code",
   "execution_count": null,
   "id": "aeaedad6",
   "metadata": {},
   "outputs": [],
   "source": []
  }
 ],
 "metadata": {
  "kernelspec": {
   "display_name": "Python 3 (ipykernel)",
   "language": "python",
   "name": "python3"
  },
  "language_info": {
   "codemirror_mode": {
    "name": "ipython",
    "version": 3
   },
   "file_extension": ".py",
   "mimetype": "text/x-python",
   "name": "python",
   "nbconvert_exporter": "python",
   "pygments_lexer": "ipython3",
   "version": "3.8.13"
  },
  "vscode": {
   "interpreter": {
    "hash": "bb8417802ea721436772b22e2e8e6fcf19f2920e58327f6d150f88461a5a8450"
   }
  }
 },
 "nbformat": 4,
 "nbformat_minor": 5
}
